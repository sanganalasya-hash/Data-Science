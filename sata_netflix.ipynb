{
  "nbformat": 4,
  "nbformat_minor": 0,
  "metadata": {
    "colab": {
      "provenance": [],
      "authorship_tag": "ABX9TyNv69XAb5YDLzMecuHg9wS7",
      "include_colab_link": true
    },
    "kernelspec": {
      "name": "python3",
      "display_name": "Python 3"
    },
    "language_info": {
      "name": "python"
    }
  },
  "cells": [
    {
      "cell_type": "markdown",
      "metadata": {
        "id": "view-in-github",
        "colab_type": "text"
      },
      "source": [
        "<a href=\"https://colab.research.google.com/github/sanganalasya-hash/Data-Science/blob/main/sata_netflix.ipynb\" target=\"_parent\"><img src=\"https://colab.research.google.com/assets/colab-badge.svg\" alt=\"Open In Colab\"/></a>"
      ]
    },
    {
      "cell_type": "code",
      "metadata": {
        "colab": {
          "base_uri": "https://localhost:8080/"
        },
        "id": "066134d6",
        "outputId": "e1a9d12a-ea20-4eec-cc6d-702933f7ba26"
      },
      "source": [
        "data = \"\"\"34\n",
        "64\n",
        "24\n",
        "40\n",
        "40\n",
        "21\n",
        "24\n",
        "30\n",
        "30\n",
        "16\n",
        "7\n",
        "20\n",
        "12\n",
        "14\n",
        "24\n",
        "20\n",
        "8\n",
        "6\n",
        "24\n",
        "6\n",
        "10\n",
        "8\n",
        "10\n",
        "9\n",
        "6\n",
        "8\n",
        "8\n",
        "4\n",
        "8\n",
        "40\n",
        "48\n",
        "16\n",
        "10\n",
        "18\n",
        "16\n",
        "5\n",
        "8\n",
        "18\n",
        "10\n",
        "8\n",
        "10\n",
        "8\n",
        "6\n",
        "16\n",
        "10\n",
        "16\n",
        "8\n",
        "8\n",
        "8\n",
        "10\n",
        "20\n",
        "45\n",
        "8\n",
        "8\n",
        "8\n",
        "10\n",
        "10\n",
        "9\n",
        "10\n",
        "27\n",
        "16\n",
        "8\n",
        "6\n",
        "6\n",
        "18\n",
        "12\n",
        "12\n",
        "8\n",
        "76\n",
        "39\n",
        "20\n",
        "22\n",
        "20\n",
        "30\n",
        "39\n",
        "52\n",
        "16\n",
        "13\n",
        "8\n",
        "5\n",
        "7\n",
        "\"\"\"\n",
        "\n",
        "# Save the data to a file\n",
        "file_path = 'numbers.txt'\n",
        "with open(file_path, 'w') as f:\n",
        "    f.write(data)\n",
        "\n",
        "print(f\"Data saved to {file_path}\")"
      ],
      "execution_count": 1,
      "outputs": [
        {
          "output_type": "stream",
          "name": "stdout",
          "text": [
            "Data saved to numbers.txt\n"
          ]
        }
      ]
    },
    {
      "cell_type": "markdown",
      "metadata": {
        "id": "e6d579ee"
      },
      "source": [
        "Now you can upload the `numbers.txt` file to a GitHub repository. Once uploaded, get the raw link to the file (usually by clicking the \"Raw\" button on the file's page).\n",
        "\n",
        "Then, you can use the following code to read the data back into Colab using the raw GitHub link:"
      ]
    },
    {
      "cell_type": "code",
      "metadata": {
        "colab": {
          "base_uri": "https://localhost:8080/"
        },
        "id": "0a997916",
        "outputId": "7b498d20-d662-4f30-ef16-4794b8f8c8ee"
      },
      "source": [
        "import requests\n",
        "\n",
        "# Replace with the raw GitHub link to your file\n",
        "github_raw_link = 'YOUR_RAW_GITHUB_LINK_HERE'\n",
        "\n",
        "try:\n",
        "    response = requests.get(github_raw_link)\n",
        "    response.raise_for_status()  # Raise an exception for bad status codes\n",
        "\n",
        "    # Read the data\n",
        "    downloaded_data = response.text\n",
        "\n",
        "    # Convert to a list of numbers (assuming each number is on a new line)\n",
        "    numbers_list = [int(num) for num in downloaded_data.strip().split('\\n') if num]\n",
        "\n",
        "    print(\"Data read from GitHub:\")\n",
        "    print(numbers_list)\n",
        "\n",
        "except requests.exceptions.RequestException as e:\n",
        "    print(f\"Error fetching data from GitHub: {e}\")\n",
        "    print(\"Please make sure the GitHub raw link is correct and accessible.\")\n",
        "\n",
        "except ValueError as e:\n",
        "    print(f\"Error converting data to numbers: {e}\")\n",
        "    print(\"Please ensure the data in the file contains only numbers, one per line.\")"
      ],
      "execution_count": 2,
      "outputs": [
        {
          "output_type": "stream",
          "name": "stdout",
          "text": [
            "Error fetching data from GitHub: Invalid URL 'YOUR_RAW_GITHUB_LINK_HERE': No scheme supplied. Perhaps you meant https://YOUR_RAW_GITHUB_LINK_HERE?\n",
            "Please make sure the GitHub raw link is correct and accessible.\n"
          ]
        }
      ]
    }
  ]
}